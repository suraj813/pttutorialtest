{
  "cells": [
    {
      "cell_type": "code",
      "execution_count": null,
      "metadata": {
        "collapsed": false
      },
      "outputs": [],
      "source": [
        "%matplotlib inline"
      ]
    },
    {
      "cell_type": "markdown",
      "metadata": {},
      "source": [
        "\nTensors\n--------------------------------------------\n\nTensors are a specialized data structure that are very similar to arrays\nand matrices. In PyTorch, we use tensors to encode the inputs and\noutputs of a model, as well as the model\u2019s parameters.\n\nTensors are similar to NumPy\u2019s ndarrays, except that tensors can run on\na GPU to accelerate computing. If you\u2019re familiar with ndarrays, you\u2019ll\nbe right at home with the Tensor API. If not, follow along in this quick\nAPI walkthrough.\n\n\n\n"
      ]
    },
    {
      "cell_type": "code",
      "execution_count": null,
      "metadata": {
        "collapsed": false
      },
      "outputs": [],
      "source": [
        "import torch\nimport numpy as np"
      ]
    },
    {
      "cell_type": "markdown",
      "metadata": {},
      "source": [
        "Tensor Initialization\n~~~~~~~~~~~~~~~~~~~~~\n\nTensors can be initialized in various ways. Take a look at the following examples\n\n**Directly from data / NumPy arrays:**\nTensors can be created directly by passing a Python list or sequence using the ``torch.tensor()`` constructor. The data type is automatically inferred from the data.\n\n"
      ]
    },
    {
      "cell_type": "code",
      "execution_count": null,
      "metadata": {
        "collapsed": false
      },
      "outputs": [],
      "source": [
        "data = [[1, 2],[3, 4]]\nnp_array = np.array(data)\n\ntnsr_from_data = torch.tensor(data)\ntnsr_from_np = torch.from_numpy(np_array)"
      ]
    },
    {
      "cell_type": "markdown",
      "metadata": {},
      "source": [
        "**From another tensor:**\nThe new tensor retains the properties of the arg tensor, unless explicitly overridden.\n\n"
      ]
    },
    {
      "cell_type": "code",
      "execution_count": null,
      "metadata": {
        "collapsed": false
      },
      "outputs": [],
      "source": [
        "new_ones_tnsr = torch.ones_like(tnsr_from_data) # 2 x 2 matrix of ones\n\ntry:\n  new_rand_tnsr = torch.rand_like(tnsr_from_data) # 2 x 2 matrix of random numbers\nexcept RuntimeError as e:\n  print(f\"RuntimeError thrown: {e}\")\n  print()\n  print(f\"Random values in PyTorch are floating points. Datatype passed to torch.rand_like(): {tnsr_from_data.dtype}\")"
      ]
    },
    {
      "cell_type": "markdown",
      "metadata": {},
      "source": [
        "This works after we override the dtype property\n\n\n"
      ]
    },
    {
      "cell_type": "code",
      "execution_count": null,
      "metadata": {
        "collapsed": false
      },
      "outputs": [],
      "source": [
        "new_rand_tnsr = torch.rand_like(tnsr_from_data, dtype=torch.float)\nprint(new_rand_tnsr)"
      ]
    },
    {
      "cell_type": "markdown",
      "metadata": {},
      "source": [
        "**With random or constant values:**\n\n\n"
      ]
    },
    {
      "cell_type": "code",
      "execution_count": null,
      "metadata": {
        "collapsed": false
      },
      "outputs": [],
      "source": [
        "shape = (2,3,)\nrand_tnsr = torch.rand(shape)\nones_tnsr = torch.ones(shape)\nzeros_tnsr = torch.zeros(shape)\nprint(f\"Random Tensor:\\n{rand_tnsr} \\n\\n \\\n        Ones Tensor:\\n{ones_tnsr} \\n\\n \\\n        Zeros Tensor:\\n{zeros_tnsr}\")"
      ]
    },
    {
      "cell_type": "markdown",
      "metadata": {},
      "source": [
        "--------------\n\n\n"
      ]
    },
    {
      "cell_type": "markdown",
      "metadata": {},
      "source": [
        "Tensor Attributes\n~~~~~~~~~~~~~~~~~\n\nTensor attributes describe their shape data type and where they live.\n\n"
      ]
    },
    {
      "cell_type": "code",
      "execution_count": null,
      "metadata": {
        "collapsed": false
      },
      "outputs": [],
      "source": [
        "tnsr = torch.rand(3,4)\n\nprint(f\"Shape of tensor: {tnsr.shape}\")\nprint(f\"Datatype of tensor: {tnsr.dtype}\")\nprint(f\"Device tensor lives on: {tnsr.device}\")"
      ]
    },
    {
      "cell_type": "markdown",
      "metadata": {},
      "source": [
        "--------------\n\n\n"
      ]
    },
    {
      "cell_type": "markdown",
      "metadata": {},
      "source": [
        "Tensor Operations\n~~~~~~~~~~~~~~~~~\n\nOver 100 tensor operations, including transposing, indexing, slicing,\nmathematical operations, linear algebra, random sampling, and more are\ncomprehensively described\n`here <https://pytorch.org/docs/stable/torch.html>`__.\n\nEach of them can be run on the GPU (at typically higher speeds than on a\nCPU). If you\u2019re using Colab, allocate a GPU by going to Edit > Notebook\nSettings.\n\n\n"
      ]
    },
    {
      "cell_type": "code",
      "execution_count": null,
      "metadata": {
        "collapsed": false
      },
      "outputs": [],
      "source": [
        "# We move our tensor to the GPU if available\nif torch.cuda.is_available():\n  tnsr = tnsr.to('cuda')"
      ]
    },
    {
      "cell_type": "markdown",
      "metadata": {},
      "source": [
        "Try out some of the operations from the list. If you're familiar with the NumPy API, you'll find the Tensor API a breeze to use.\n\n\n"
      ]
    },
    {
      "cell_type": "markdown",
      "metadata": {},
      "source": [
        "**Standard numpy-like indexing and slicing:**\n\n"
      ]
    },
    {
      "cell_type": "code",
      "execution_count": null,
      "metadata": {
        "collapsed": false
      },
      "outputs": [],
      "source": [
        "tnsr = torch.ones(4, 4)\ntnsr[:,1] = 0\nprint(tnsr)"
      ]
    },
    {
      "cell_type": "markdown",
      "metadata": {},
      "source": [
        "**Both of these are joining ops, but they are subtly different.**\n\n"
      ]
    },
    {
      "cell_type": "code",
      "execution_count": null,
      "metadata": {
        "collapsed": false
      },
      "outputs": [],
      "source": [
        "t1 = torch.cat([tnsr, tnsr], dim=1)\nt2 = torch.stack([tnsr, tnsr], dim=1)\nprint(t1)\nprint()\nprint(t2)"
      ]
    },
    {
      "cell_type": "markdown",
      "metadata": {},
      "source": [
        "**Multiply op - multiple syntaxes**\n\n"
      ]
    },
    {
      "cell_type": "code",
      "execution_count": null,
      "metadata": {
        "collapsed": false
      },
      "outputs": [],
      "source": [
        "# both ops compute element-wise product\nprint(tnsr * tnsr == tnsr.mul(tnsr))\n\n# both ops compute matrix product\nprint(tnsr @ tnsr.T == tnsr.matmul(tnsr.T))"
      ]
    },
    {
      "cell_type": "markdown",
      "metadata": {},
      "source": [
        "<div class=\"alert alert-info\"><h4>Note</h4><p>Operations that have a '_' suffix are in-place. For example:\n    ``x.copy_(y)``, ``x.t_()``, will change ``x``. In-place operations\n    don't work well with Autograd, and their use is discouraged.</p></div>\n\n"
      ]
    },
    {
      "cell_type": "code",
      "execution_count": null,
      "metadata": {
        "collapsed": false
      },
      "outputs": [],
      "source": [
        "print(tnsr)\ntnsr.t_()\nprint(tnsr)"
      ]
    },
    {
      "cell_type": "markdown",
      "metadata": {},
      "source": [
        "--------------\n\n\n"
      ]
    },
    {
      "cell_type": "markdown",
      "metadata": {},
      "source": [
        "Bridge with NumPy\n~~~~~~~~~~~~~~~~~\nTensors on the CPU and NumPy arrays can share their underlying memory\nlocations, and changing one will change\tthe other.\n\n"
      ]
    },
    {
      "cell_type": "markdown",
      "metadata": {},
      "source": [
        "Tensor to NumPy array\n^^^^^^^^^^^^^^^^^^^^^^^^^^^^^^^^^^^^^^\n\n"
      ]
    },
    {
      "cell_type": "code",
      "execution_count": null,
      "metadata": {
        "collapsed": false
      },
      "outputs": [],
      "source": [
        "a = torch.ones(5)\nprint(f\"a: {a}\")\nb = a.numpy()\nprint(f\"b: {b}\")"
      ]
    },
    {
      "cell_type": "markdown",
      "metadata": {},
      "source": [
        "A change in ``a`` reflects in ``b``\n\n"
      ]
    },
    {
      "cell_type": "code",
      "execution_count": null,
      "metadata": {
        "collapsed": false
      },
      "outputs": [],
      "source": [
        "a.add_(1)\nprint(f\"a: {a}\")\nprint(f\"b: {b}\")"
      ]
    },
    {
      "cell_type": "markdown",
      "metadata": {},
      "source": [
        "NumPy array to Tensor\n^^^^^^^^^^^^^^^^^^^^^^^^^^^^^^^^^^^^^^\n\n"
      ]
    },
    {
      "cell_type": "code",
      "execution_count": null,
      "metadata": {
        "collapsed": false
      },
      "outputs": [],
      "source": [
        "a = np.ones(5)\nb = torch.from_numpy(a)\nnp.add(a, 1, out=a)\nprint(f\"a: {a}\")\nprint(f\"b: {b}\")"
      ]
    }
  ],
  "metadata": {
    "kernelspec": {
      "display_name": "Python 3",
      "language": "python",
      "name": "python3"
    },
    "language_info": {
      "codemirror_mode": {
        "name": "ipython",
        "version": 3
      },
      "file_extension": ".py",
      "mimetype": "text/x-python",
      "name": "python",
      "nbconvert_exporter": "python",
      "pygments_lexer": "ipython3",
      "version": "3.6.9"
    }
  },
  "nbformat": 4,
  "nbformat_minor": 0
}